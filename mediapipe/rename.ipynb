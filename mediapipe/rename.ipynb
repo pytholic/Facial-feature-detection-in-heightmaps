{
 "cells": [
  {
   "cell_type": "code",
   "execution_count": 4,
   "id": "20b97d75",
   "metadata": {},
   "outputs": [],
   "source": [
    "import os\n",
    "# Function to rename multiple files\n",
    "def main():\n",
    "    i = 1\n",
    "    path=\"./data_heightmap/\"\n",
    "    for filename in os.listdir(path):\n",
    "        my_dest = str(i) + \".png\"\n",
    "        my_source = path + filename\n",
    "        my_dest = path + my_dest\n",
    "        # rename() function will\n",
    "        # rename all the files\n",
    "        os.rename(my_source, my_dest)\n",
    "        i += 1\n",
    "# Driver Code\n",
    "if __name__ == '__main__':\n",
    "   # Calling main() function\n",
    "   main()"
   ]
  }
 ],
 "metadata": {
  "kernelspec": {
   "display_name": "Python 3 (ipykernel)",
   "language": "python",
   "name": "python3"
  },
  "language_info": {
   "codemirror_mode": {
    "name": "ipython",
    "version": 3
   },
   "file_extension": ".py",
   "mimetype": "text/x-python",
   "name": "python",
   "nbconvert_exporter": "python",
   "pygments_lexer": "ipython3",
   "version": "3.8.8"
  }
 },
 "nbformat": 4,
 "nbformat_minor": 5
}
