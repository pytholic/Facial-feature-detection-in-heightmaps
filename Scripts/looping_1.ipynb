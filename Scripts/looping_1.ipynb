{
 "cells": [
  {
   "cell_type": "code",
   "execution_count": 1,
   "id": "6b23535d",
   "metadata": {},
   "outputs": [
    {
     "name": "stdout",
     "output_type": "stream",
     "text": [
      "body target : HEAD\n",
      "current working directory : E:\\skia_projects\\Facial-feature-detection-in-heightmaps\\MarsTool\n",
      "output dir specified to : E:\\skia_projects\\Facial-feature-detection-in-heightmaps\\data\n",
      "reading FileSystem of E:\\skia_projects\\Facial-feature-detection-in-heightmaps\\data\\11143712_KIM_SANGJOON\n",
      "1 directories / 172 dicom files\n",
      "Reading dicom series...\n",
      "extracting Dicom series from E:\\skia_projects\\Facial-feature-detection-in-heightmaps\\data\\11143712_KIM_SANGJOON\n",
      "grouping dicom series : 1.3.12.2.1107.5.1.4.66417.30000021090323410187400018283 / Post  3.0  I40f  1\n",
      "none-axial image excluded : E:\\skia_projects\\Facial-feature-detection-in-heightmaps\\data\\11143712_KIM_SANGJOON\\11143712_098.dcm\n",
      "none-axial image excluded : E:\\skia_projects\\Facial-feature-detection-in-heightmaps\\data\\11143712_KIM_SANGJOON\\11143712_099.dcm\n",
      "none-axial image excluded : E:\\skia_projects\\Facial-feature-detection-in-heightmaps\\data\\11143712_KIM_SANGJOON\\11143712_100.dcm\n",
      "none-axial image excluded : E:\\skia_projects\\Facial-feature-detection-in-heightmaps\\data\\11143712_KIM_SANGJOON\\11143712_101.dcm\n",
      "none-axial image excluded : E:\\skia_projects\\Facial-feature-detection-in-heightmaps\\data\\11143712_KIM_SANGJOON\\11143712_102.dcm\n",
      "none-axial image excluded : E:\\skia_projects\\Facial-feature-detection-in-heightmaps\\data\\11143712_KIM_SANGJOON\\11143712_103.dcm\n",
      "none-axial image excluded : E:\\skia_projects\\Facial-feature-detection-in-heightmaps\\data\\11143712_KIM_SANGJOON\\11143712_104.dcm\n",
      "none-axial image excluded : E:\\skia_projects\\Facial-feature-detection-in-heightmaps\\data\\11143712_KIM_SANGJOON\\11143712_105.dcm\n",
      "none-axial image excluded : E:\\skia_projects\\Facial-feature-detection-in-heightmaps\\data\\11143712_KIM_SANGJOON\\11143712_106.dcm\n",
      "none-axial image excluded : E:\\skia_projects\\Facial-feature-detection-in-heightmaps\\data\\11143712_KIM_SANGJOON\\11143712_107.dcm\n",
      "none-axial image excluded : E:\\skia_projects\\Facial-feature-detection-in-heightmaps\\data\\11143712_KIM_SANGJOON\\11143712_108.dcm\n",
      "none-axial image excluded : E:\\skia_projects\\Facial-feature-detection-in-heightmaps\\data\\11143712_KIM_SANGJOON\\11143712_109.dcm\n",
      "none-axial image excluded : E:\\skia_projects\\Facial-feature-detection-in-heightmaps\\data\\11143712_KIM_SANGJOON\\11143712_110.dcm\n",
      "none-axial image excluded : E:\\skia_projects\\Facial-feature-detection-in-heightmaps\\data\\11143712_KIM_SANGJOON\\11143712_111.dcm\n",
      "none-axial image excluded : E:\\skia_projects\\Facial-feature-detection-in-heightmaps\\data\\11143712_KIM_SANGJOON\\11143712_112.dcm\n",
      "none-axial image excluded : E:\\skia_projects\\Facial-feature-detection-in-heightmaps\\data\\11143712_KIM_SANGJOON\\11143712_113.dcm\n",
      "none-axial image excluded : E:\\skia_projects\\Facial-feature-detection-in-heightmaps\\data\\11143712_KIM_SANGJOON\\11143712_114.dcm\n",
      "none-axial image excluded : E:\\skia_projects\\Facial-feature-detection-in-heightmaps\\data\\11143712_KIM_SANGJOON\\11143712_115.dcm\n",
      "none-axial image excluded : E:\\skia_projects\\Facial-feature-detection-in-heightmaps\\data\\11143712_KIM_SANGJOON\\11143712_116.dcm\n",
      "none-axial image excluded : E:\\skia_projects\\Facial-feature-detection-in-heightmaps\\data\\11143712_KIM_SANGJOON\\11143712_117.dcm\n",
      "none-axial image excluded : E:\\skia_projects\\Facial-feature-detection-in-heightmaps\\data\\11143712_KIM_SANGJOON\\11143712_118.dcm\n",
      "none-axial image excluded : E:\\skia_projects\\Facial-feature-detection-in-heightmaps\\data\\11143712_KIM_SANGJOON\\11143712_119.dcm\n",
      "none-axial image excluded : E:\\skia_projects\\Facial-feature-detection-in-heightmaps\\data\\11143712_KIM_SANGJOON\\11143712_120.dcm\n",
      "none-axial image excluded : E:\\skia_projects\\Facial-feature-detection-in-heightmaps\\data\\11143712_KIM_SANGJOON\\11143712_121.dcm\n",
      "none-axial image excluded : E:\\skia_projects\\Facial-feature-detection-in-heightmaps\\data\\11143712_KIM_SANGJOON\\11143712_122.dcm\n",
      "none-axial image excluded : E:\\skia_projects\\Facial-feature-detection-in-heightmaps\\data\\11143712_KIM_SANGJOON\\11143712_123.dcm\n",
      "none-axial image excluded : E:\\skia_projects\\Facial-feature-detection-in-heightmaps\\data\\11143712_KIM_SANGJOON\\11143712_124.dcm\n",
      "none-axial image excluded : E:\\skia_projects\\Facial-feature-detection-in-heightmaps\\data\\11143712_KIM_SANGJOON\\11143712_125.dcm\n",
      "none-axial image excluded : E:\\skia_projects\\Facial-feature-detection-in-heightmaps\\data\\11143712_KIM_SANGJOON\\11143712_126.dcm\n",
      "none-axial image excluded : E:\\skia_projects\\Facial-feature-detection-in-heightmaps\\data\\11143712_KIM_SANGJOON\\11143712_127.dcm\n",
      "none-axial image excluded : E:\\skia_projects\\Facial-feature-detection-in-heightmaps\\data\\11143712_KIM_SANGJOON\\11143712_128.dcm\n",
      "none-axial image excluded : E:\\skia_projects\\Facial-feature-detection-in-heightmaps\\data\\11143712_KIM_SANGJOON\\11143712_129.dcm\n",
      "none-axial image excluded : E:\\skia_projects\\Facial-feature-detection-in-heightmaps\\data\\11143712_KIM_SANGJOON\\11143712_130.dcm\n",
      "none-axial image excluded : E:\\skia_projects\\Facial-feature-detection-in-heightmaps\\data\\11143712_KIM_SANGJOON\\11143712_131.dcm\n",
      "none-axial image excluded : E:\\skia_projects\\Facial-feature-detection-in-heightmaps\\data\\11143712_KIM_SANGJOON\\11143712_132.dcm\n",
      "none-axial image excluded : E:\\skia_projects\\Facial-feature-detection-in-heightmaps\\data\\11143712_KIM_SANGJOON\\11143712_133.dcm\n",
      "none-axial image excluded : E:\\skia_projects\\Facial-feature-detection-in-heightmaps\\data\\11143712_KIM_SANGJOON\\11143712_134.dcm\n",
      "none-axial image excluded : E:\\skia_projects\\Facial-feature-detection-in-heightmaps\\data\\11143712_KIM_SANGJOON\\11143712_135.dcm\n",
      "none-axial image excluded : E:\\skia_projects\\Facial-feature-detection-in-heightmaps\\data\\11143712_KIM_SANGJOON\\11143712_136.dcm\n",
      "none-axial image excluded : E:\\skia_projects\\Facial-feature-detection-in-heightmaps\\data\\11143712_KIM_SANGJOON\\11143712_137.dcm\n",
      "none-axial image excluded : E:\\skia_projects\\Facial-feature-detection-in-heightmaps\\data\\11143712_KIM_SANGJOON\\11143712_138.dcm\n",
      "none-axial image excluded : E:\\skia_projects\\Facial-feature-detection-in-heightmaps\\data\\11143712_KIM_SANGJOON\\11143712_139.dcm\n",
      "none-axial image excluded : E:\\skia_projects\\Facial-feature-detection-in-heightmaps\\data\\11143712_KIM_SANGJOON\\11143712_140.dcm\n",
      "none-axial image excluded : E:\\skia_projects\\Facial-feature-detection-in-heightmaps\\data\\11143712_KIM_SANGJOON\\11143712_141.dcm\n",
      "none-axial image excluded : E:\\skia_projects\\Facial-feature-detection-in-heightmaps\\data\\11143712_KIM_SANGJOON\\11143712_142.dcm\n",
      "none-axial image excluded : E:\\skia_projects\\Facial-feature-detection-in-heightmaps\\data\\11143712_KIM_SANGJOON\\11143712_143.dcm\n",
      "none-axial image excluded : E:\\skia_projects\\Facial-feature-detection-in-heightmaps\\data\\11143712_KIM_SANGJOON\\11143712_144.dcm\n",
      "none-axial image excluded : E:\\skia_projects\\Facial-feature-detection-in-heightmaps\\data\\11143712_KIM_SANGJOON\\11143712_145.dcm\n",
      "none-axial image excluded : E:\\skia_projects\\Facial-feature-detection-in-heightmaps\\data\\11143712_KIM_SANGJOON\\11143712_146.dcm\n",
      "none-axial image excluded : E:\\skia_projects\\Facial-feature-detection-in-heightmaps\\data\\11143712_KIM_SANGJOON\\11143712_147.dcm\n",
      "none-axial image excluded : E:\\skia_projects\\Facial-feature-detection-in-heightmaps\\data\\11143712_KIM_SANGJOON\\11143712_148.dcm\n",
      "none-axial image excluded : E:\\skia_projects\\Facial-feature-detection-in-heightmaps\\data\\11143712_KIM_SANGJOON\\11143712_149.dcm\n",
      "none-axial image excluded : E:\\skia_projects\\Facial-feature-detection-in-heightmaps\\data\\11143712_KIM_SANGJOON\\11143712_150.dcm\n",
      "none-axial image excluded : E:\\skia_projects\\Facial-feature-detection-in-heightmaps\\data\\11143712_KIM_SANGJOON\\11143712_151.dcm\n",
      "none-axial image excluded : E:\\skia_projects\\Facial-feature-detection-in-heightmaps\\data\\11143712_KIM_SANGJOON\\11143712_152.dcm\n",
      "none-axial image excluded : E:\\skia_projects\\Facial-feature-detection-in-heightmaps\\data\\11143712_KIM_SANGJOON\\11143712_153.dcm\n",
      "none-axial image excluded : E:\\skia_projects\\Facial-feature-detection-in-heightmaps\\data\\11143712_KIM_SANGJOON\\11143712_154.dcm\n",
      "none-axial image excluded : E:\\skia_projects\\Facial-feature-detection-in-heightmaps\\data\\11143712_KIM_SANGJOON\\11143712_155.dcm\n",
      "none-axial image excluded : E:\\skia_projects\\Facial-feature-detection-in-heightmaps\\data\\11143712_KIM_SANGJOON\\11143712_156.dcm\n",
      "none-axial image excluded : E:\\skia_projects\\Facial-feature-detection-in-heightmaps\\data\\11143712_KIM_SANGJOON\\11143712_157.dcm\n",
      "none-axial image excluded : E:\\skia_projects\\Facial-feature-detection-in-heightmaps\\data\\11143712_KIM_SANGJOON\\11143712_158.dcm\n",
      "none-axial image excluded : E:\\skia_projects\\Facial-feature-detection-in-heightmaps\\data\\11143712_KIM_SANGJOON\\11143712_159.dcm\n",
      "none-axial image excluded : E:\\skia_projects\\Facial-feature-detection-in-heightmaps\\data\\11143712_KIM_SANGJOON\\11143712_160.dcm\n",
      "none-axial image excluded : E:\\skia_projects\\Facial-feature-detection-in-heightmaps\\data\\11143712_KIM_SANGJOON\\11143712_161.dcm\n",
      "none-axial image excluded : E:\\skia_projects\\Facial-feature-detection-in-heightmaps\\data\\11143712_KIM_SANGJOON\\11143712_162.dcm\n",
      "none-axial image excluded : E:\\skia_projects\\Facial-feature-detection-in-heightmaps\\data\\11143712_KIM_SANGJOON\\11143712_163.dcm\n",
      "none-axial image excluded : E:\\skia_projects\\Facial-feature-detection-in-heightmaps\\data\\11143712_KIM_SANGJOON\\11143712_164.dcm\n",
      "none-axial image excluded : E:\\skia_projects\\Facial-feature-detection-in-heightmaps\\data\\11143712_KIM_SANGJOON\\11143712_165.dcm\n",
      "none-axial image excluded : E:\\skia_projects\\Facial-feature-detection-in-heightmaps\\data\\11143712_KIM_SANGJOON\\11143712_166.dcm\n",
      "none-axial image excluded : E:\\skia_projects\\Facial-feature-detection-in-heightmaps\\data\\11143712_KIM_SANGJOON\\11143712_167.dcm\n",
      "none-axial image excluded : E:\\skia_projects\\Facial-feature-detection-in-heightmaps\\data\\11143712_KIM_SANGJOON\\11143712_168.dcm\n",
      "none-axial image excluded : E:\\skia_projects\\Facial-feature-detection-in-heightmaps\\data\\11143712_KIM_SANGJOON\\11143712_169.dcm\n",
      "localizer excluded : E:\\skia_projects\\Facial-feature-detection-in-heightmaps\\data\\11143712_KIM_SANGJOON\\11143712_170.dcm\n",
      "localizer excluded : E:\\skia_projects\\Facial-feature-detection-in-heightmaps\\data\\11143712_KIM_SANGJOON\\11143712_171.dcm\n",
      "1 dicom series found. creating meshes of each series\n",
      "WORKING series(1.3.12.2.1107.5.1.4.66417.30000021090323410187400018283 in E:\\skia_projects\\Facial-feature-detection-in-heightmaps\\data\\11143712_KIM_SANGJOON)\n",
      "skin segmentation ...\n",
      "  saved mask volume : E:\\skia_projects\\Facial-feature-detection-in-heightmaps\\data\\1.3.12.2.1107.5.1.4.66417.30000021090323410187400018283.mask.vol\n",
      "skipping\n",
      "genertaed mesh : \n"
     ]
    }
   ],
   "source": [
    "!MarsTool.exe meshgen -M -C --no-mesh-out E:\\skia_projects\\Facial-feature-detection-in-heightmaps\\data\\11143712_KIM_SANGJOON -O E:\\skia_projects\\Facial-feature-detection-in-heightmaps\\data"
   ]
  },
  {
   "cell_type": "code",
   "execution_count": 2,
   "id": "28501679",
   "metadata": {},
   "outputs": [
    {
     "name": "stderr",
     "output_type": "stream",
     "text": [
      "MarsTool 1.0.0\n",
      "Copyright (C) 2022 MarsTool\n",
      "\n",
      "ERROR(S):\n",
      "  Option 'O' is unknown.\n",
      "\n",
      "  -i, --input        (Default: 1) threshold value in the volume\n",
      "\n",
      "  -d, --direction    (Default: A) one of A, P, L, R, S, I\n",
      "\n",
      "  -a, --all          (Default: false) makes all directional depth images\n",
      "\n",
      "  --help             Display this help screen.\n",
      "\n",
      "  --version          Display version information.\n",
      "\n",
      "  value pos. 0       Required. volume file path\n",
      "\n",
      "  value pos. 1       output image(png) file path\n",
      "\n"
     ]
    }
   ],
   "source": [
    "!MarsTool.exe depth -i 1 -d A E:\\skia_projects\\Facial-feature-detection-in-heightmaps\\data\\1.3.12.2.1107.5.1.4.66417.30000021090323410187400018283.mask.vol"
   ]
  },
  {
   "cell_type": "code",
   "execution_count": null,
   "id": "28b56ad3",
   "metadata": {},
   "outputs": [],
   "source": []
  }
 ],
 "metadata": {
  "kernelspec": {
   "display_name": "Python 3 (ipykernel)",
   "language": "python",
   "name": "python3"
  },
  "language_info": {
   "codemirror_mode": {
    "name": "ipython",
    "version": 3
   },
   "file_extension": ".py",
   "mimetype": "text/x-python",
   "name": "python",
   "nbconvert_exporter": "python",
   "pygments_lexer": "ipython3",
   "version": "3.8.8"
  }
 },
 "nbformat": 4,
 "nbformat_minor": 5
}
